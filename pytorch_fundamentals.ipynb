{
 "cells": [
  {
   "cell_type": "code",
   "execution_count": 1,
   "metadata": {
    "colab": {
     "base_uri": "https://localhost:8080/"
    },
    "executionInfo": {
     "elapsed": 484,
     "status": "ok",
     "timestamp": 1721305926448,
     "user": {
      "displayName": "Sarthak Jain",
      "userId": "12654174391372537413"
     },
     "user_tz": -330
    },
    "id": "If9sxTP8yVBv",
    "outputId": "e2180911-4dc7-4fc5-def0-0d11d5adbfae"
   },
   "outputs": [
    {
     "name": "stderr",
     "output_type": "stream",
     "text": [
      "'nvidia-smi' is not recognized as an internal or external command,\n",
      "operable program or batch file.\n"
     ]
    }
   ],
   "source": [
    "!nvidia-smi"
   ]
  },
  {
   "cell_type": "code",
   "execution_count": 2,
   "metadata": {
    "colab": {
     "base_uri": "https://localhost:8080/"
    },
    "executionInfo": {
     "elapsed": 6580,
     "status": "ok",
     "timestamp": 1721305935405,
     "user": {
      "displayName": "Sarthak Jain",
      "userId": "12654174391372537413"
     },
     "user_tz": -330
    },
    "id": "Ao6Zoy2BzSG1",
    "outputId": "9d672f8c-8390-4e98-8579-d95e1245f03e"
   },
   "outputs": [
    {
     "name": "stdout",
     "output_type": "stream",
     "text": [
      "2.3.1+cpu\n"
     ]
    }
   ],
   "source": [
    "import torch\n",
    "import numpy as np\n",
    "import pandas as pd\n",
    "import matplotlib.pyplot as plt\n",
    "import seaborn as sns\n",
    "print(torch.__version__)"
   ]
  },
  {
   "cell_type": "code",
   "execution_count": 3,
   "metadata": {
    "colab": {
     "base_uri": "https://localhost:8080/"
    },
    "executionInfo": {
     "elapsed": 5,
     "status": "ok",
     "timestamp": 1721305935405,
     "user": {
      "displayName": "Sarthak Jain",
      "userId": "12654174391372537413"
     },
     "user_tz": -330
    },
    "id": "nF5PahXg0QTE",
    "outputId": "307e89fb-bd88-42f8-e4ba-eb6e57caf3d9"
   },
   "outputs": [
    {
     "data": {
      "text/plain": [
       "tensor(7)"
      ]
     },
     "execution_count": 3,
     "metadata": {},
     "output_type": "execute_result"
    }
   ],
   "source": [
    "scalar = torch.tensor(7)\n",
    "scalar"
   ]
  },
  {
   "cell_type": "code",
   "execution_count": 4,
   "metadata": {
    "colab": {
     "base_uri": "https://localhost:8080/"
    },
    "executionInfo": {
     "elapsed": 798,
     "status": "ok",
     "timestamp": 1721305936200,
     "user": {
      "displayName": "Sarthak Jain",
      "userId": "12654174391372537413"
     },
     "user_tz": -330
    },
    "id": "C32HMmG90kob",
    "outputId": "d77ed1f4-b22b-4dae-978d-af1ccc9327f2"
   },
   "outputs": [
    {
     "data": {
      "text/plain": [
       "0"
      ]
     },
     "execution_count": 4,
     "metadata": {},
     "output_type": "execute_result"
    }
   ],
   "source": [
    "scalar.ndim"
   ]
  },
  {
   "cell_type": "code",
   "execution_count": 5,
   "metadata": {
    "colab": {
     "base_uri": "https://localhost:8080/"
    },
    "executionInfo": {
     "elapsed": 3,
     "status": "ok",
     "timestamp": 1721305936697,
     "user": {
      "displayName": "Sarthak Jain",
      "userId": "12654174391372537413"
     },
     "user_tz": -330
    },
    "id": "5AUukTTQ0wWq",
    "outputId": "39a1484b-2d0e-48a1-ed89-219241455c85"
   },
   "outputs": [
    {
     "data": {
      "text/plain": [
       "7"
      ]
     },
     "execution_count": 5,
     "metadata": {},
     "output_type": "execute_result"
    }
   ],
   "source": [
    "scalar.item()"
   ]
  },
  {
   "cell_type": "code",
   "execution_count": 6,
   "metadata": {
    "colab": {
     "base_uri": "https://localhost:8080/"
    },
    "executionInfo": {
     "elapsed": 545,
     "status": "ok",
     "timestamp": 1721305950111,
     "user": {
      "displayName": "Sarthak Jain",
      "userId": "12654174391372537413"
     },
     "user_tz": -330
    },
    "id": "i2SES6bI01g9",
    "outputId": "80270fdc-2f15-4e56-b469-8ecbff6c9925"
   },
   "outputs": [
    {
     "data": {
      "text/plain": [
       "tensor([7, 7])"
      ]
     },
     "execution_count": 6,
     "metadata": {},
     "output_type": "execute_result"
    }
   ],
   "source": [
    "vector = torch.tensor([7,7])\n",
    "vector"
   ]
  },
  {
   "cell_type": "code",
   "execution_count": 7,
   "metadata": {
    "colab": {
     "base_uri": "https://localhost:8080/"
    },
    "executionInfo": {
     "elapsed": 488,
     "status": "ok",
     "timestamp": 1721305977121,
     "user": {
      "displayName": "Sarthak Jain",
      "userId": "12654174391372537413"
     },
     "user_tz": -330
    },
    "id": "YC_ODee91KbE",
    "outputId": "117398b8-348c-4d6b-b04f-0017b835c3e0"
   },
   "outputs": [
    {
     "data": {
      "text/plain": [
       "1"
      ]
     },
     "execution_count": 7,
     "metadata": {},
     "output_type": "execute_result"
    }
   ],
   "source": [
    "vector.ndim"
   ]
  },
  {
   "cell_type": "code",
   "execution_count": 8,
   "metadata": {
    "colab": {
     "base_uri": "https://localhost:8080/"
    },
    "executionInfo": {
     "elapsed": 746,
     "status": "ok",
     "timestamp": 1721305987060,
     "user": {
      "displayName": "Sarthak Jain",
      "userId": "12654174391372537413"
     },
     "user_tz": -330
    },
    "id": "gCDczf8g1NN7",
    "outputId": "b5151b2c-bd1c-44d7-8a75-9711fead7cac"
   },
   "outputs": [
    {
     "data": {
      "text/plain": [
       "torch.Size([2])"
      ]
     },
     "execution_count": 8,
     "metadata": {},
     "output_type": "execute_result"
    }
   ],
   "source": [
    "vector.shape"
   ]
  },
  {
   "cell_type": "code",
   "execution_count": 9,
   "metadata": {
    "colab": {
     "base_uri": "https://localhost:8080/"
    },
    "executionInfo": {
     "elapsed": 500,
     "status": "ok",
     "timestamp": 1721306103157,
     "user": {
      "displayName": "Sarthak Jain",
      "userId": "12654174391372537413"
     },
     "user_tz": -330
    },
    "id": "vOGrjsDr1YP7",
    "outputId": "3e5304ff-6a61-4aa2-b341-d7a04c19c221"
   },
   "outputs": [
    {
     "data": {
      "text/plain": [
       "tensor([[ 7,  8],\n",
       "        [ 9, 10]])"
      ]
     },
     "execution_count": 9,
     "metadata": {},
     "output_type": "execute_result"
    }
   ],
   "source": [
    "MATRIX = torch.tensor([[7,8],\n",
    "                       [9,10]])\n",
    "MATRIX\n"
   ]
  },
  {
   "cell_type": "code",
   "execution_count": 10,
   "metadata": {
    "colab": {
     "base_uri": "https://localhost:8080/"
    },
    "executionInfo": {
     "elapsed": 2,
     "status": "ok",
     "timestamp": 1721306112872,
     "user": {
      "displayName": "Sarthak Jain",
      "userId": "12654174391372537413"
     },
     "user_tz": -330
    },
    "id": "L1MejcFi1sSD",
    "outputId": "34e47efb-2363-48a3-afa4-ce7d98c24554"
   },
   "outputs": [
    {
     "data": {
      "text/plain": [
       "2"
      ]
     },
     "execution_count": 10,
     "metadata": {},
     "output_type": "execute_result"
    }
   ],
   "source": [
    "MATRIX.ndim"
   ]
  },
  {
   "cell_type": "code",
   "execution_count": 11,
   "metadata": {
    "colab": {
     "base_uri": "https://localhost:8080/"
    },
    "executionInfo": {
     "elapsed": 486,
     "status": "ok",
     "timestamp": 1721306140368,
     "user": {
      "displayName": "Sarthak Jain",
      "userId": "12654174391372537413"
     },
     "user_tz": -330
    },
    "id": "DchiEhxd1yYs",
    "outputId": "df83913d-37df-466d-d766-2fe088ee3bf1"
   },
   "outputs": [
    {
     "data": {
      "text/plain": [
       "torch.Size([2, 2])"
      ]
     },
     "execution_count": 11,
     "metadata": {},
     "output_type": "execute_result"
    }
   ],
   "source": [
    "MATRIX.shape"
   ]
  },
  {
   "cell_type": "code",
   "execution_count": 12,
   "metadata": {
    "colab": {
     "base_uri": "https://localhost:8080/"
    },
    "executionInfo": {
     "elapsed": 5,
     "status": "ok",
     "timestamp": 1721306201079,
     "user": {
      "displayName": "Sarthak Jain",
      "userId": "12654174391372537413"
     },
     "user_tz": -330
    },
    "id": "2RCD6b2L2Afj",
    "outputId": "019a61d9-5fcc-4487-f1e6-a863c8b222fe"
   },
   "outputs": [
    {
     "data": {
      "text/plain": [
       "tensor([[[1, 2, 3],\n",
       "         [3, 6, 9],\n",
       "         [2, 4, 5]]])"
      ]
     },
     "execution_count": 12,
     "metadata": {},
     "output_type": "execute_result"
    }
   ],
   "source": [
    "TENSOR = torch.tensor([[[1,2,3],\n",
    "                      [3,6,9],\n",
    "                      [2,4,5]]])\n",
    "TENSOR"
   ]
  },
  {
   "cell_type": "code",
   "execution_count": 13,
   "metadata": {
    "colab": {
     "base_uri": "https://localhost:8080/"
    },
    "executionInfo": {
     "elapsed": 478,
     "status": "ok",
     "timestamp": 1721306237853,
     "user": {
      "displayName": "Sarthak Jain",
      "userId": "12654174391372537413"
     },
     "user_tz": -330
    },
    "id": "1CLWthCn2Jy6",
    "outputId": "ed2eee16-b5ce-48bb-a084-40d0d0a8ad71"
   },
   "outputs": [
    {
     "data": {
      "text/plain": [
       "torch.Size([1, 3, 3])"
      ]
     },
     "execution_count": 13,
     "metadata": {},
     "output_type": "execute_result"
    }
   ],
   "source": [
    "TENSOR.shape"
   ]
  },
  {
   "cell_type": "markdown",
   "metadata": {
    "id": "rGIhS-h8T1Hk"
   },
   "source": [
    "Creating a arange of tensors and tensors-like"
   ]
  },
  {
   "cell_type": "code",
   "execution_count": 14,
   "metadata": {
    "colab": {
     "base_uri": "https://localhost:8080/"
    },
    "executionInfo": {
     "elapsed": 448,
     "status": "ok",
     "timestamp": 1721314067176,
     "user": {
      "displayName": "Sarthak Jain",
      "userId": "12654174391372537413"
     },
     "user_tz": -330
    },
    "id": "Y_Neo1TgT7XU",
    "outputId": "88a9c8d4-2de6-4f23-d819-f76bffbf0fb6"
   },
   "outputs": [
    {
     "data": {
      "text/plain": [
       "tensor([ 1,  2,  3,  4,  5,  6,  7,  8,  9, 10])"
      ]
     },
     "execution_count": 14,
     "metadata": {},
     "output_type": "execute_result"
    }
   ],
   "source": [
    "one_to_ten = torch.arange(start=1,end=11,step=1)\n",
    "one_to_ten"
   ]
  },
  {
   "cell_type": "code",
   "execution_count": 15,
   "metadata": {
    "colab": {
     "base_uri": "https://localhost:8080/"
    },
    "executionInfo": {
     "elapsed": 452,
     "status": "ok",
     "timestamp": 1721314101604,
     "user": {
      "displayName": "Sarthak Jain",
      "userId": "12654174391372537413"
     },
     "user_tz": -330
    },
    "id": "A9Uz81bDT7Z_",
    "outputId": "7b31e663-98c2-41d5-984d-819c43eaa58b"
   },
   "outputs": [
    {
     "data": {
      "text/plain": [
       "tensor([0, 0, 0, 0, 0, 0, 0, 0, 0, 0])"
      ]
     },
     "execution_count": 15,
     "metadata": {},
     "output_type": "execute_result"
    }
   ],
   "source": [
    "ten_zeros = torch.zeros_like(input=one_to_ten)\n",
    "ten_zeros"
   ]
  },
  {
   "cell_type": "code",
   "execution_count": 16,
   "metadata": {
    "colab": {
     "base_uri": "https://localhost:8080/"
    },
    "executionInfo": {
     "elapsed": 656,
     "status": "ok",
     "timestamp": 1721314191445,
     "user": {
      "displayName": "Sarthak Jain",
      "userId": "12654174391372537413"
     },
     "user_tz": -330
    },
    "id": "jaB03dx7UZMU",
    "outputId": "4d8e59cb-f542-4c04-f225-1aff73c65833"
   },
   "outputs": [
    {
     "data": {
      "text/plain": [
       "tensor([3., 6., 9.])"
      ]
     },
     "execution_count": 16,
     "metadata": {},
     "output_type": "execute_result"
    }
   ],
   "source": [
    "float_32_tensor = torch.tensor([3.0,6.0,9.0],\n",
    "                              dtype=None,\n",
    "                              device=None,\n",
    "                              requires_grad=False)\n",
    "float_32_tensor"
   ]
  },
  {
   "cell_type": "code",
   "execution_count": 17,
   "metadata": {
    "colab": {
     "base_uri": "https://localhost:8080/"
    },
    "executionInfo": {
     "elapsed": 534,
     "status": "ok",
     "timestamp": 1721314248218,
     "user": {
      "displayName": "Sarthak Jain",
      "userId": "12654174391372537413"
     },
     "user_tz": -330
    },
    "id": "ntBOQA4XUZO2",
    "outputId": "42cdbddb-2fa0-48d9-9294-5e18186c1863"
   },
   "outputs": [
    {
     "data": {
      "text/plain": [
       "torch.float32"
      ]
     },
     "execution_count": 17,
     "metadata": {},
     "output_type": "execute_result"
    }
   ],
   "source": [
    "float_32_tensor.dtype"
   ]
  },
  {
   "cell_type": "code",
   "execution_count": null,
   "metadata": {
    "id": "C5x1Vvp9UZRe"
   },
   "outputs": [],
   "source": []
  },
  {
   "cell_type": "code",
   "execution_count": null,
   "metadata": {
    "id": "FhpfpgmzT7cT"
   },
   "outputs": [],
   "source": []
  }
 ],
 "metadata": {
  "colab": {
   "authorship_tag": "ABX9TyMl3zdvan+W+B7vXuI45C9E",
   "gpuType": "T4",
   "provenance": []
  },
  "kernelspec": {
   "display_name": ".venv",
   "language": "python",
   "name": "python3"
  },
  "language_info": {
   "codemirror_mode": {
    "name": "ipython",
    "version": 3
   },
   "file_extension": ".py",
   "mimetype": "text/x-python",
   "name": "python",
   "nbconvert_exporter": "python",
   "pygments_lexer": "ipython3",
   "version": "3.11.9"
  }
 },
 "nbformat": 4,
 "nbformat_minor": 0
}
